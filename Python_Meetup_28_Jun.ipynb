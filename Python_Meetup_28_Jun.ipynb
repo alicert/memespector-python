{
  "nbformat": 4,
  "nbformat_minor": 0,
  "metadata": {
    "colab": {
      "name": "Python Meetup 28 Jun.ipynb",
      "version": "0.3.2",
      "provenance": [],
      "include_colab_link": true
    },
    "kernelspec": {
      "name": "python3",
      "display_name": "Python 3"
    }
  },
  "cells": [
    {
      "cell_type": "markdown",
      "metadata": {
        "id": "view-in-github",
        "colab_type": "text"
      },
      "source": [
        "[View in Colaboratory](https://colab.research.google.com/github/alicert/memespector-python/blob/master/Python_Meetup_28_Jun.ipynb)"
      ]
    },
    {
      "metadata": {
        "id": "984tvZ0CYWJZ",
        "colab_type": "text"
      },
      "cell_type": "markdown",
      "source": [
        "# Stackoverflow Survey 2018"
      ]
    },
    {
      "metadata": {
        "id": "AkoqPOrkYmmP",
        "colab_type": "text"
      },
      "cell_type": "markdown",
      "source": [
        "## Analysis on more than 90.000 developers"
      ]
    },
    {
      "metadata": {
        "id": "S-flBEOIYrA_",
        "colab_type": "text"
      },
      "cell_type": "markdown",
      "source": [
        "**What time do developers wake up?**\n",
        "\n",
        "**Wake up Time and Job Satisfaction**\n",
        "\n",
        "**The most popular programming languages**\n",
        "\n",
        "**What are the plans for the next five years of current developers?**\n",
        "\n",
        "**What about  Ethics?**\n",
        "\n",
        "**What about salary?**\n",
        "\n",
        "**Men and Women Salaries**\n",
        "\n",
        "**Years of Coding Professionally**\n",
        "\n",
        "**Formal Education**\n",
        "\n",
        "**Resources**"
      ]
    },
    {
      "metadata": {
        "id": "V6BfybF1YsKG",
        "colab_type": "code",
        "colab": {}
      },
      "cell_type": "code",
      "source": [
        "import pandas as pd"
      ],
      "execution_count": 0,
      "outputs": []
    },
    {
      "metadata": {
        "id": "zzGx3KSKYutF",
        "colab_type": "code",
        "colab": {}
      },
      "cell_type": "code",
      "source": [
        "data = pd.read_csv('https://raw.githubusercontent.com/franciscadias/data/master/survey_results_public_2018_modified.csv')"
      ],
      "execution_count": 0,
      "outputs": []
    },
    {
      "metadata": {
        "id": "LJwXPyKkY4vV",
        "colab_type": "code",
        "colab": {
          "base_uri": "https://localhost:8080/",
          "height": 306
        },
        "outputId": "c768af66-fe52-439c-8bb2-94d945b73562"
      },
      "cell_type": "code",
      "source": [
        "data.head()"
      ],
      "execution_count": 0,
      "outputs": [
        {
          "output_type": "execute_result",
          "data": {
            "text/html": [
              "<div>\n",
              "<style scoped>\n",
              "    .dataframe tbody tr th:only-of-type {\n",
              "        vertical-align: middle;\n",
              "    }\n",
              "\n",
              "    .dataframe tbody tr th {\n",
              "        vertical-align: top;\n",
              "    }\n",
              "\n",
              "    .dataframe thead th {\n",
              "        text-align: right;\n",
              "    }\n",
              "</style>\n",
              "<table border=\"1\" class=\"dataframe\">\n",
              "  <thead>\n",
              "    <tr style=\"text-align: right;\">\n",
              "      <th></th>\n",
              "      <th>Unnamed: 0</th>\n",
              "      <th>WakeTime</th>\n",
              "      <th>JobSatisfaction</th>\n",
              "      <th>LanguageWorkedWith</th>\n",
              "      <th>Student</th>\n",
              "      <th>HopeFiveYears</th>\n",
              "      <th>EthicsChoice</th>\n",
              "      <th>ConvertedSalary</th>\n",
              "      <th>Gender</th>\n",
              "      <th>YearsCodingProf</th>\n",
              "      <th>Age</th>\n",
              "      <th>FormalEducation</th>\n",
              "    </tr>\n",
              "  </thead>\n",
              "  <tbody>\n",
              "    <tr>\n",
              "      <th>0</th>\n",
              "      <td>0</td>\n",
              "      <td>Between 5:00 - 6:00 AM</td>\n",
              "      <td>Extremely satisfied</td>\n",
              "      <td>JavaScript;Python;HTML;CSS</td>\n",
              "      <td>No</td>\n",
              "      <td>Working as a founder or co-founder of my own c...</td>\n",
              "      <td>No</td>\n",
              "      <td>NaN</td>\n",
              "      <td>Male</td>\n",
              "      <td>3-5 years</td>\n",
              "      <td>25 - 34 years old</td>\n",
              "      <td>Bachelor’s degree (BA, BS, B.Eng., etc.)</td>\n",
              "    </tr>\n",
              "    <tr>\n",
              "      <th>1</th>\n",
              "      <td>1</td>\n",
              "      <td>Between 6:01 - 7:00 AM</td>\n",
              "      <td>Moderately dissatisfied</td>\n",
              "      <td>JavaScript;Python;Bash/Shell</td>\n",
              "      <td>No</td>\n",
              "      <td>Working in a different or more specialized tec...</td>\n",
              "      <td>Depends on what it is</td>\n",
              "      <td>70841.0</td>\n",
              "      <td>Male</td>\n",
              "      <td>18-20 years</td>\n",
              "      <td>35 - 44 years old</td>\n",
              "      <td>Bachelor’s degree (BA, BS, B.Eng., etc.)</td>\n",
              "    </tr>\n",
              "    <tr>\n",
              "      <th>2</th>\n",
              "      <td>2</td>\n",
              "      <td>NaN</td>\n",
              "      <td>Moderately satisfied</td>\n",
              "      <td>NaN</td>\n",
              "      <td>No</td>\n",
              "      <td>Working as a founder or co-founder of my own c...</td>\n",
              "      <td>NaN</td>\n",
              "      <td>NaN</td>\n",
              "      <td>NaN</td>\n",
              "      <td>6-8 years</td>\n",
              "      <td>NaN</td>\n",
              "      <td>Associate degree</td>\n",
              "    </tr>\n",
              "    <tr>\n",
              "      <th>3</th>\n",
              "      <td>3</td>\n",
              "      <td>Between 6:01 - 7:00 AM</td>\n",
              "      <td>Neither satisfied nor dissatisfied</td>\n",
              "      <td>C#;JavaScript;SQL;TypeScript;HTML;CSS;Bash/Shell</td>\n",
              "      <td>No</td>\n",
              "      <td>Working as a founder or co-founder of my own c...</td>\n",
              "      <td>No</td>\n",
              "      <td>NaN</td>\n",
              "      <td>Male</td>\n",
              "      <td>12-14 years</td>\n",
              "      <td>35 - 44 years old</td>\n",
              "      <td>Bachelor’s degree (BA, BS, B.Eng., etc.)</td>\n",
              "    </tr>\n",
              "    <tr>\n",
              "      <th>4</th>\n",
              "      <td>4</td>\n",
              "      <td>Before 5:00 AM</td>\n",
              "      <td>Slightly satisfied</td>\n",
              "      <td>C;C++;Java;Matlab;R;SQL;Bash/Shell</td>\n",
              "      <td>Yes, part-time</td>\n",
              "      <td>Working in a different or more specialized tec...</td>\n",
              "      <td>No</td>\n",
              "      <td>21426.0</td>\n",
              "      <td>Male</td>\n",
              "      <td>0-2 years</td>\n",
              "      <td>18 - 24 years old</td>\n",
              "      <td>Some college/university study without earning ...</td>\n",
              "    </tr>\n",
              "  </tbody>\n",
              "</table>\n",
              "</div>"
            ],
            "text/plain": [
              "   Unnamed: 0                WakeTime                     JobSatisfaction  \\\n",
              "0           0  Between 5:00 - 6:00 AM                 Extremely satisfied   \n",
              "1           1  Between 6:01 - 7:00 AM             Moderately dissatisfied   \n",
              "2           2                     NaN                Moderately satisfied   \n",
              "3           3  Between 6:01 - 7:00 AM  Neither satisfied nor dissatisfied   \n",
              "4           4          Before 5:00 AM                  Slightly satisfied   \n",
              "\n",
              "                                 LanguageWorkedWith         Student  \\\n",
              "0                        JavaScript;Python;HTML;CSS              No   \n",
              "1                      JavaScript;Python;Bash/Shell              No   \n",
              "2                                               NaN              No   \n",
              "3  C#;JavaScript;SQL;TypeScript;HTML;CSS;Bash/Shell              No   \n",
              "4                C;C++;Java;Matlab;R;SQL;Bash/Shell  Yes, part-time   \n",
              "\n",
              "                                       HopeFiveYears           EthicsChoice  \\\n",
              "0  Working as a founder or co-founder of my own c...                     No   \n",
              "1  Working in a different or more specialized tec...  Depends on what it is   \n",
              "2  Working as a founder or co-founder of my own c...                    NaN   \n",
              "3  Working as a founder or co-founder of my own c...                     No   \n",
              "4  Working in a different or more specialized tec...                     No   \n",
              "\n",
              "   ConvertedSalary Gender YearsCodingProf                Age  \\\n",
              "0              NaN   Male       3-5 years  25 - 34 years old   \n",
              "1          70841.0   Male     18-20 years  35 - 44 years old   \n",
              "2              NaN    NaN       6-8 years                NaN   \n",
              "3              NaN   Male     12-14 years  35 - 44 years old   \n",
              "4          21426.0   Male       0-2 years  18 - 24 years old   \n",
              "\n",
              "                                     FormalEducation  \n",
              "0           Bachelor’s degree (BA, BS, B.Eng., etc.)  \n",
              "1           Bachelor’s degree (BA, BS, B.Eng., etc.)  \n",
              "2                                   Associate degree  \n",
              "3           Bachelor’s degree (BA, BS, B.Eng., etc.)  \n",
              "4  Some college/university study without earning ...  "
            ]
          },
          "metadata": {
            "tags": []
          },
          "execution_count": 3
        }
      ]
    },
    {
      "metadata": {
        "id": "n5Jl23ZnY6NU",
        "colab_type": "code",
        "colab": {
          "base_uri": "https://localhost:8080/",
          "height": 34
        },
        "outputId": "8ece48dc-18c8-497d-f9d0-4ad329579ac4"
      },
      "cell_type": "code",
      "source": [
        "# 98855 rowns and 12 columns\n",
        "data.shape"
      ],
      "execution_count": 0,
      "outputs": [
        {
          "output_type": "execute_result",
          "data": {
            "text/plain": [
              "(98855, 12)"
            ]
          },
          "metadata": {
            "tags": []
          },
          "execution_count": 4
        }
      ]
    },
    {
      "metadata": {
        "id": "NDuj2FSMsouj",
        "colab_type": "code",
        "colab": {
          "base_uri": "https://localhost:8080/",
          "height": 238
        },
        "outputId": "bdeb12a9-cd40-4ad3-84fc-6276b5d42947"
      },
      "cell_type": "code",
      "source": [
        "# Let´s see what are the data types for each column in this dataset\n",
        "data.dtypes"
      ],
      "execution_count": 0,
      "outputs": [
        {
          "output_type": "execute_result",
          "data": {
            "text/plain": [
              "Unnamed: 0              int64\n",
              "WakeTime               object\n",
              "JobSatisfaction        object\n",
              "LanguageWorkedWith     object\n",
              "Student                object\n",
              "HopeFiveYears          object\n",
              "EthicsChoice           object\n",
              "ConvertedSalary       float64\n",
              "Gender                 object\n",
              "YearsCodingProf        object\n",
              "Age                    object\n",
              "FormalEducation        object\n",
              "dtype: object"
            ]
          },
          "metadata": {
            "tags": []
          },
          "execution_count": 5
        }
      ]
    },
    {
      "metadata": {
        "id": "5C9xgG-bny1e",
        "colab_type": "code",
        "colab": {
          "base_uri": "https://localhost:8080/",
          "height": 297
        },
        "outputId": "e797e0f6-74a0-47fa-86c0-ec0045e81802"
      },
      "cell_type": "code",
      "source": [
        "# It will describe the numerical values only but....\n",
        "data.describe()"
      ],
      "execution_count": 0,
      "outputs": [
        {
          "output_type": "execute_result",
          "data": {
            "text/html": [
              "<div>\n",
              "<style scoped>\n",
              "    .dataframe tbody tr th:only-of-type {\n",
              "        vertical-align: middle;\n",
              "    }\n",
              "\n",
              "    .dataframe tbody tr th {\n",
              "        vertical-align: top;\n",
              "    }\n",
              "\n",
              "    .dataframe thead th {\n",
              "        text-align: right;\n",
              "    }\n",
              "</style>\n",
              "<table border=\"1\" class=\"dataframe\">\n",
              "  <thead>\n",
              "    <tr style=\"text-align: right;\">\n",
              "      <th></th>\n",
              "      <th>Unnamed: 0</th>\n",
              "      <th>ConvertedSalary</th>\n",
              "    </tr>\n",
              "  </thead>\n",
              "  <tbody>\n",
              "    <tr>\n",
              "      <th>count</th>\n",
              "      <td>98855.000000</td>\n",
              "      <td>4.770200e+04</td>\n",
              "    </tr>\n",
              "    <tr>\n",
              "      <th>mean</th>\n",
              "      <td>49427.000000</td>\n",
              "      <td>9.578086e+04</td>\n",
              "    </tr>\n",
              "    <tr>\n",
              "      <th>std</th>\n",
              "      <td>28537.124768</td>\n",
              "      <td>2.023482e+05</td>\n",
              "    </tr>\n",
              "    <tr>\n",
              "      <th>min</th>\n",
              "      <td>0.000000</td>\n",
              "      <td>0.000000e+00</td>\n",
              "    </tr>\n",
              "    <tr>\n",
              "      <th>25%</th>\n",
              "      <td>24713.500000</td>\n",
              "      <td>2.384400e+04</td>\n",
              "    </tr>\n",
              "    <tr>\n",
              "      <th>50%</th>\n",
              "      <td>49427.000000</td>\n",
              "      <td>5.507500e+04</td>\n",
              "    </tr>\n",
              "    <tr>\n",
              "      <th>75%</th>\n",
              "      <td>74140.500000</td>\n",
              "      <td>9.300000e+04</td>\n",
              "    </tr>\n",
              "    <tr>\n",
              "      <th>max</th>\n",
              "      <td>98854.000000</td>\n",
              "      <td>2.000000e+06</td>\n",
              "    </tr>\n",
              "  </tbody>\n",
              "</table>\n",
              "</div>"
            ],
            "text/plain": [
              "         Unnamed: 0  ConvertedSalary\n",
              "count  98855.000000     4.770200e+04\n",
              "mean   49427.000000     9.578086e+04\n",
              "std    28537.124768     2.023482e+05\n",
              "min        0.000000     0.000000e+00\n",
              "25%    24713.500000     2.384400e+04\n",
              "50%    49427.000000     5.507500e+04\n",
              "75%    74140.500000     9.300000e+04\n",
              "max    98854.000000     2.000000e+06"
            ]
          },
          "metadata": {
            "tags": []
          },
          "execution_count": 6
        }
      ]
    },
    {
      "metadata": {
        "id": "0G70edyKoA-t",
        "colab_type": "code",
        "colab": {
          "base_uri": "https://localhost:8080/",
          "height": 407
        },
        "outputId": "6d40928e-a58b-4c92-da88-6b7dfcb303e6"
      },
      "cell_type": "code",
      "source": [
        "# if you use .describe(include = 'all') it will describe all columns, including the columns that are in string format\n",
        "data.describe(include = 'all')"
      ],
      "execution_count": 0,
      "outputs": [
        {
          "output_type": "execute_result",
          "data": {
            "text/html": [
              "<div>\n",
              "<style scoped>\n",
              "    .dataframe tbody tr th:only-of-type {\n",
              "        vertical-align: middle;\n",
              "    }\n",
              "\n",
              "    .dataframe tbody tr th {\n",
              "        vertical-align: top;\n",
              "    }\n",
              "\n",
              "    .dataframe thead th {\n",
              "        text-align: right;\n",
              "    }\n",
              "</style>\n",
              "<table border=\"1\" class=\"dataframe\">\n",
              "  <thead>\n",
              "    <tr style=\"text-align: right;\">\n",
              "      <th></th>\n",
              "      <th>Unnamed: 0</th>\n",
              "      <th>WakeTime</th>\n",
              "      <th>JobSatisfaction</th>\n",
              "      <th>LanguageWorkedWith</th>\n",
              "      <th>Student</th>\n",
              "      <th>HopeFiveYears</th>\n",
              "      <th>EthicsChoice</th>\n",
              "      <th>ConvertedSalary</th>\n",
              "      <th>Gender</th>\n",
              "      <th>YearsCodingProf</th>\n",
              "      <th>Age</th>\n",
              "      <th>FormalEducation</th>\n",
              "    </tr>\n",
              "  </thead>\n",
              "  <tbody>\n",
              "    <tr>\n",
              "      <th>count</th>\n",
              "      <td>98855.000000</td>\n",
              "      <td>72146</td>\n",
              "      <td>69276</td>\n",
              "      <td>78334</td>\n",
              "      <td>94901</td>\n",
              "      <td>75718</td>\n",
              "      <td>70782</td>\n",
              "      <td>4.770200e+04</td>\n",
              "      <td>64469</td>\n",
              "      <td>77903</td>\n",
              "      <td>64574</td>\n",
              "      <td>94703</td>\n",
              "    </tr>\n",
              "    <tr>\n",
              "      <th>unique</th>\n",
              "      <td>NaN</td>\n",
              "      <td>11</td>\n",
              "      <td>7</td>\n",
              "      <td>26678</td>\n",
              "      <td>3</td>\n",
              "      <td>7</td>\n",
              "      <td>3</td>\n",
              "      <td>NaN</td>\n",
              "      <td>15</td>\n",
              "      <td>11</td>\n",
              "      <td>7</td>\n",
              "      <td>9</td>\n",
              "    </tr>\n",
              "    <tr>\n",
              "      <th>top</th>\n",
              "      <td>NaN</td>\n",
              "      <td>Between 7:01 - 8:00 AM</td>\n",
              "      <td>Moderately satisfied</td>\n",
              "      <td>C#;JavaScript;SQL;HTML;CSS</td>\n",
              "      <td>No</td>\n",
              "      <td>Working in a different or more specialized tec...</td>\n",
              "      <td>No</td>\n",
              "      <td>NaN</td>\n",
              "      <td>Male</td>\n",
              "      <td>0-2 years</td>\n",
              "      <td>25 - 34 years old</td>\n",
              "      <td>Bachelor’s degree (BA, BS, B.Eng., etc.)</td>\n",
              "    </tr>\n",
              "    <tr>\n",
              "      <th>freq</th>\n",
              "      <td>NaN</td>\n",
              "      <td>21250</td>\n",
              "      <td>26005</td>\n",
              "      <td>1347</td>\n",
              "      <td>70399</td>\n",
              "      <td>25643</td>\n",
              "      <td>41441</td>\n",
              "      <td>NaN</td>\n",
              "      <td>59458</td>\n",
              "      <td>23421</td>\n",
              "      <td>31759</td>\n",
              "      <td>43659</td>\n",
              "    </tr>\n",
              "    <tr>\n",
              "      <th>mean</th>\n",
              "      <td>49427.000000</td>\n",
              "      <td>NaN</td>\n",
              "      <td>NaN</td>\n",
              "      <td>NaN</td>\n",
              "      <td>NaN</td>\n",
              "      <td>NaN</td>\n",
              "      <td>NaN</td>\n",
              "      <td>9.578086e+04</td>\n",
              "      <td>NaN</td>\n",
              "      <td>NaN</td>\n",
              "      <td>NaN</td>\n",
              "      <td>NaN</td>\n",
              "    </tr>\n",
              "    <tr>\n",
              "      <th>std</th>\n",
              "      <td>28537.124768</td>\n",
              "      <td>NaN</td>\n",
              "      <td>NaN</td>\n",
              "      <td>NaN</td>\n",
              "      <td>NaN</td>\n",
              "      <td>NaN</td>\n",
              "      <td>NaN</td>\n",
              "      <td>2.023482e+05</td>\n",
              "      <td>NaN</td>\n",
              "      <td>NaN</td>\n",
              "      <td>NaN</td>\n",
              "      <td>NaN</td>\n",
              "    </tr>\n",
              "    <tr>\n",
              "      <th>min</th>\n",
              "      <td>0.000000</td>\n",
              "      <td>NaN</td>\n",
              "      <td>NaN</td>\n",
              "      <td>NaN</td>\n",
              "      <td>NaN</td>\n",
              "      <td>NaN</td>\n",
              "      <td>NaN</td>\n",
              "      <td>0.000000e+00</td>\n",
              "      <td>NaN</td>\n",
              "      <td>NaN</td>\n",
              "      <td>NaN</td>\n",
              "      <td>NaN</td>\n",
              "    </tr>\n",
              "    <tr>\n",
              "      <th>25%</th>\n",
              "      <td>24713.500000</td>\n",
              "      <td>NaN</td>\n",
              "      <td>NaN</td>\n",
              "      <td>NaN</td>\n",
              "      <td>NaN</td>\n",
              "      <td>NaN</td>\n",
              "      <td>NaN</td>\n",
              "      <td>2.384400e+04</td>\n",
              "      <td>NaN</td>\n",
              "      <td>NaN</td>\n",
              "      <td>NaN</td>\n",
              "      <td>NaN</td>\n",
              "    </tr>\n",
              "    <tr>\n",
              "      <th>50%</th>\n",
              "      <td>49427.000000</td>\n",
              "      <td>NaN</td>\n",
              "      <td>NaN</td>\n",
              "      <td>NaN</td>\n",
              "      <td>NaN</td>\n",
              "      <td>NaN</td>\n",
              "      <td>NaN</td>\n",
              "      <td>5.507500e+04</td>\n",
              "      <td>NaN</td>\n",
              "      <td>NaN</td>\n",
              "      <td>NaN</td>\n",
              "      <td>NaN</td>\n",
              "    </tr>\n",
              "    <tr>\n",
              "      <th>75%</th>\n",
              "      <td>74140.500000</td>\n",
              "      <td>NaN</td>\n",
              "      <td>NaN</td>\n",
              "      <td>NaN</td>\n",
              "      <td>NaN</td>\n",
              "      <td>NaN</td>\n",
              "      <td>NaN</td>\n",
              "      <td>9.300000e+04</td>\n",
              "      <td>NaN</td>\n",
              "      <td>NaN</td>\n",
              "      <td>NaN</td>\n",
              "      <td>NaN</td>\n",
              "    </tr>\n",
              "    <tr>\n",
              "      <th>max</th>\n",
              "      <td>98854.000000</td>\n",
              "      <td>NaN</td>\n",
              "      <td>NaN</td>\n",
              "      <td>NaN</td>\n",
              "      <td>NaN</td>\n",
              "      <td>NaN</td>\n",
              "      <td>NaN</td>\n",
              "      <td>2.000000e+06</td>\n",
              "      <td>NaN</td>\n",
              "      <td>NaN</td>\n",
              "      <td>NaN</td>\n",
              "      <td>NaN</td>\n",
              "    </tr>\n",
              "  </tbody>\n",
              "</table>\n",
              "</div>"
            ],
            "text/plain": [
              "          Unnamed: 0                WakeTime       JobSatisfaction  \\\n",
              "count   98855.000000                   72146                 69276   \n",
              "unique           NaN                      11                     7   \n",
              "top              NaN  Between 7:01 - 8:00 AM  Moderately satisfied   \n",
              "freq             NaN                   21250                 26005   \n",
              "mean    49427.000000                     NaN                   NaN   \n",
              "std     28537.124768                     NaN                   NaN   \n",
              "min         0.000000                     NaN                   NaN   \n",
              "25%     24713.500000                     NaN                   NaN   \n",
              "50%     49427.000000                     NaN                   NaN   \n",
              "75%     74140.500000                     NaN                   NaN   \n",
              "max     98854.000000                     NaN                   NaN   \n",
              "\n",
              "                LanguageWorkedWith Student  \\\n",
              "count                        78334   94901   \n",
              "unique                       26678       3   \n",
              "top     C#;JavaScript;SQL;HTML;CSS      No   \n",
              "freq                          1347   70399   \n",
              "mean                           NaN     NaN   \n",
              "std                            NaN     NaN   \n",
              "min                            NaN     NaN   \n",
              "25%                            NaN     NaN   \n",
              "50%                            NaN     NaN   \n",
              "75%                            NaN     NaN   \n",
              "max                            NaN     NaN   \n",
              "\n",
              "                                            HopeFiveYears EthicsChoice  \\\n",
              "count                                               75718        70782   \n",
              "unique                                                  7            3   \n",
              "top     Working in a different or more specialized tec...           No   \n",
              "freq                                                25643        41441   \n",
              "mean                                                  NaN          NaN   \n",
              "std                                                   NaN          NaN   \n",
              "min                                                   NaN          NaN   \n",
              "25%                                                   NaN          NaN   \n",
              "50%                                                   NaN          NaN   \n",
              "75%                                                   NaN          NaN   \n",
              "max                                                   NaN          NaN   \n",
              "\n",
              "        ConvertedSalary Gender YearsCodingProf                Age  \\\n",
              "count      4.770200e+04  64469           77903              64574   \n",
              "unique              NaN     15              11                  7   \n",
              "top                 NaN   Male       0-2 years  25 - 34 years old   \n",
              "freq                NaN  59458           23421              31759   \n",
              "mean       9.578086e+04    NaN             NaN                NaN   \n",
              "std        2.023482e+05    NaN             NaN                NaN   \n",
              "min        0.000000e+00    NaN             NaN                NaN   \n",
              "25%        2.384400e+04    NaN             NaN                NaN   \n",
              "50%        5.507500e+04    NaN             NaN                NaN   \n",
              "75%        9.300000e+04    NaN             NaN                NaN   \n",
              "max        2.000000e+06    NaN             NaN                NaN   \n",
              "\n",
              "                                 FormalEducation  \n",
              "count                                      94703  \n",
              "unique                                         9  \n",
              "top     Bachelor’s degree (BA, BS, B.Eng., etc.)  \n",
              "freq                                       43659  \n",
              "mean                                         NaN  \n",
              "std                                          NaN  \n",
              "min                                          NaN  \n",
              "25%                                          NaN  \n",
              "50%                                          NaN  \n",
              "75%                                          NaN  \n",
              "max                                          NaN  "
            ]
          },
          "metadata": {
            "tags": []
          },
          "execution_count": 7
        }
      ]
    },
    {
      "metadata": {
        "id": "4hkQpsRRoVpL",
        "colab_type": "code",
        "colab": {
          "base_uri": "https://localhost:8080/",
          "height": 238
        },
        "outputId": "4fb0956e-446c-4056-ed6c-ad0a281b66e7"
      },
      "cell_type": "code",
      "source": [
        "# see amount of missing data for each column in the dataset\n",
        "# if you look in the dataframe above, for instance, waketime has count = 72146 and here\n",
        "# we have 26709 values that are missing: 72146 + 26709 = 98855 which are all rows in this dataframe\n",
        "data.isnull().sum()"
      ],
      "execution_count": 0,
      "outputs": [
        {
          "output_type": "execute_result",
          "data": {
            "text/plain": [
              "Unnamed: 0                0\n",
              "WakeTime              26709\n",
              "JobSatisfaction       29579\n",
              "LanguageWorkedWith    20521\n",
              "Student                3954\n",
              "HopeFiveYears         23137\n",
              "EthicsChoice          28073\n",
              "ConvertedSalary       51153\n",
              "Gender                34386\n",
              "YearsCodingProf       20952\n",
              "Age                   34281\n",
              "FormalEducation        4152\n",
              "dtype: int64"
            ]
          },
          "metadata": {
            "tags": []
          },
          "execution_count": 8
        }
      ]
    },
    {
      "metadata": {
        "id": "h7TWjLz4Y_Ez",
        "colab_type": "code",
        "colab": {}
      },
      "cell_type": "code",
      "source": [
        "# 2D plotting library\n",
        "import matplotlib.pyplot as plt\n",
        "\n",
        "\n",
        "# 2D plotting library, but more visually interesting than matplotlib\n",
        "import seaborn as sns\n",
        "\n",
        " # an awesome library that will make your graphs look better\n",
        "plt.style.use('fivethirtyeight')\n",
        "\n",
        "\n",
        "# the magic command that will allow you to see the graphs once you execute the cell\n",
        "%matplotlib inline"
      ],
      "execution_count": 0,
      "outputs": []
    },
    {
      "metadata": {
        "id": "VRJSxIQYZC0c",
        "colab_type": "text"
      },
      "cell_type": "markdown",
      "source": [
        "### 1. How's the day start for developers?"
      ]
    },
    {
      "metadata": {
        "id": "Wi9SFTD2nTio",
        "colab_type": "code",
        "colab": {
          "base_uri": "https://localhost:8080/",
          "height": 221
        },
        "outputId": "2f72307e-516e-4c05-ccb7-e1c3664af3e2"
      },
      "cell_type": "code",
      "source": [
        "# I like to use value_counts() to see what are the values that the column contains\n",
        "# I do this for all categorical columns\n",
        "\n",
        "data.WakeTime.value_counts()"
      ],
      "execution_count": 0,
      "outputs": [
        {
          "output_type": "execute_result",
          "data": {
            "text/plain": [
              "Between 7:01 - 8:00 AM          21250\n",
              "Between 6:01 - 7:00 AM          20322\n",
              "Between 8:01 - 9:00 AM          10592\n",
              "Between 5:00 - 6:00 AM           8922\n",
              "I do not have a set schedule     3842\n",
              "Between 9:01 - 10:00 AM          3453\n",
              "Before 5:00 AM                   1730\n",
              "Between 10:01 - 11:00 AM         1020\n",
              "Between 11:01 AM - 12:00 PM       387\n",
              "I work night shifts               327\n",
              "After 12:01 PM                    301\n",
              "Name: WakeTime, dtype: int64"
            ]
          },
          "metadata": {
            "tags": []
          },
          "execution_count": 10
        }
      ]
    },
    {
      "metadata": {
        "id": "Q39Wd94MZDXz",
        "colab_type": "code",
        "colab": {
          "base_uri": "https://localhost:8080/",
          "height": 661
        },
        "outputId": "b60b3963-b812-4481-c7c7-21ac55f72554"
      },
      "cell_type": "code",
      "source": [
        "# Use of y to plot horizontally\n",
        "plt.figure(figsize=(12,10))\n",
        "\n",
        "plt.title('Wake up time in numbers', fontsize=18)\n",
        "sns.countplot(y=\"WakeTime\", data=data)\n",
        "plt.show()"
      ],
      "execution_count": 0,
      "outputs": [
        {
          "output_type": "stream",
          "text": [
            "/usr/local/lib/python3.6/dist-packages/seaborn/categorical.py:1428: FutureWarning: remove_na is deprecated and is a private function. Do not use.\n",
            "  stat_data = remove_na(group_data)\n"
          ],
          "name": "stderr"
        },
        {
          "output_type": "display_data",
          "data": {
            "image/png": "[encoded data removed]",
            "text/plain": [
              "<matplotlib.figure.Figure at 0x7f929ce6f470>"
            ]
          },
          "metadata": {
            "tags": []
          }
        }
      ]
    },
    {
      "metadata": {
        "id": "c5ApzPJd48sT",
        "colab_type": "text"
      },
      "cell_type": "markdown",
      "source": [
        "### 2. Wake Time and Job Satisfaction"
      ]
    },
    {
      "metadata": {
        "id": "fyprwrKiZJcj",
        "colab_type": "code",
        "colab": {
          "base_uri": "https://localhost:8080/",
          "height": 681
        },
        "outputId": "0aaaada4-5529-4ef8-e0f0-0c8793330b65"
      },
      "cell_type": "code",
      "source": [
        "plt.figure(figsize=(12,10))\n",
        "\n",
        "plt.title('Wake Time and Job Satisfaction', fontsize=18)\n",
        "sns.countplot(y=\"WakeTime\", hue=\"JobSatisfaction\", data=data)\n",
        "plt.show()"
      ],
      "execution_count": 0,
      "outputs": [
        {
          "output_type": "stream",
          "text": [
            "/usr/local/lib/python3.6/dist-packages/seaborn/categorical.py:1468: FutureWarning: remove_na is deprecated and is a private function. Do not use.\n",
            "  stat_data = remove_na(group_data[hue_mask])\n"
          ],
          "name": "stderr"
        },
        {
          "output_type": "display_data",
          "data": {
            "image/png": "[encoded data removed]",
            "text/plain": [
              "<matplotlib.figure.Figure at 0x7f929ce237f0>"
            ]
          },
          "metadata": {
            "tags": []
          }
        }
      ]
    },
    {
      "metadata": {
        "id": "jMyU3Pwkanmy",
        "colab_type": "text"
      },
      "cell_type": "markdown",
      "source": [
        "Here it would probably make more sense if we do this in relative terms.\n",
        "\n",
        "In this graph we are counting the number of people. So assuming there is more people that wakes up at 7AM than any other time, it would be expected that more people are extremely satisfied at this time.\n",
        "\n",
        "Work improvement: make a dataframe that shows the percentage of job satisfaction over wake time."
      ]
    },
    {
      "metadata": {
        "id": "KW6xAo_qZSfC",
        "colab_type": "text"
      },
      "cell_type": "markdown",
      "source": [
        "### 3. What are the most common languages among developers?"
      ]
    },
    {
      "metadata": {
        "id": "dgwC7j-C7RzE",
        "colab_type": "code",
        "colab": {
          "base_uri": "https://localhost:8080/",
          "height": 54
        },
        "outputId": "af28c78d-1eea-40cb-d2de-bc0fc3f4510d"
      },
      "cell_type": "code",
      "source": [
        "# So far this is how our column LanguageWorkedWith looks like\n",
        "\n",
        "data['LanguageWorkedWith'][0]"
      ],
      "execution_count": 0,
      "outputs": [
        {
          "output_type": "execute_result",
          "data": {
            "text/plain": [
              "'JavaScript;Python;HTML;CSS'"
            ]
          },
          "metadata": {
            "tags": []
          },
          "execution_count": 13
        }
      ]
    },
    {
      "metadata": {
        "id": "IQK-0ii-7ifk",
        "colab_type": "code",
        "colab": {}
      },
      "cell_type": "code",
      "source": [
        "# But we need a way to count how many times each programming language was mentioned for all developers\n",
        "# So we start by splitting into seperate programming language\n",
        "s = data['LanguageWorkedWith'].str.split(';')"
      ],
      "execution_count": 0,
      "outputs": []
    },
    {
      "metadata": {
        "id": "OJDDYeHM7wim",
        "colab_type": "code",
        "colab": {}
      },
      "cell_type": "code",
      "source": [
        "from pandas import Series\n",
        "\n",
        "# Let´s add apply(Series, 1): \n",
        "# Series means that we are talking about a One-dimensional ndarray. One dim array is a column in a dataset\n",
        "# the 1 means that we are applying this function to a column (if bigger than 1 it would be applied to a dataframe)\n",
        "# Reshaping the data using stack() function in pandas converts the data into stacked format .i.e. the column is stacked row wise. So before column, now row level \n",
        "\n",
        "s = data['LanguageWorkedWith'].str.split(';').apply(Series, 1).stack()"
      ],
      "execution_count": 0,
      "outputs": []
    },
    {
      "metadata": {
        "id": "b7XJiLueaTDA",
        "colab_type": "code",
        "colab": {
          "base_uri": "https://localhost:8080/",
          "height": 54
        },
        "outputId": "4db218da-efe1-4018-88b6-d94c10a720a8"
      },
      "cell_type": "code",
      "source": [
        "# See how the first results look like\n",
        "data.LanguageWorkedWith[3]"
      ],
      "execution_count": 0,
      "outputs": [
        {
          "output_type": "execute_result",
          "data": {
            "text/plain": [
              "'C#;JavaScript;SQL;TypeScript;HTML;CSS;Bash/Shell'"
            ]
          },
          "metadata": {
            "tags": []
          },
          "execution_count": 16
        }
      ]
    },
    {
      "metadata": {
        "id": "hFr748wZan7P",
        "colab_type": "code",
        "colab": {}
      },
      "cell_type": "code",
      "source": [
        "# This means that now, for each row, instead of having one row for each developer, we have many rows for one developer. \n",
        "# The number of rows for each developer corresponds to the number of languages that developer cited on the questionnaire\n",
        "s.index = s.index.droplevel(-1)"
      ],
      "execution_count": 0,
      "outputs": []
    },
    {
      "metadata": {
        "id": "w0g3oby4aukv",
        "colab_type": "code",
        "colab": {}
      },
      "cell_type": "code",
      "source": [
        "# Here we are naming the series \"Language\", which will be a new column called Language\n",
        "s.name = 'Language'"
      ],
      "execution_count": 0,
      "outputs": []
    },
    {
      "metadata": {
        "id": "6U2jigIxawNP",
        "colab_type": "code",
        "colab": {}
      },
      "cell_type": "code",
      "source": [
        "# Create a new dataframe called df_language that is the join between initial dataset (data) plus a new column called Language\n",
        "df_language = data.join(s)"
      ],
      "execution_count": 0,
      "outputs": []
    },
    {
      "metadata": {
        "id": "JYohvCgU9GNP",
        "colab_type": "code",
        "colab": {
          "base_uri": "https://localhost:8080/",
          "height": 54
        },
        "outputId": "2700c760-d374-4ea8-d3bd-fc35b13ee4b7"
      },
      "cell_type": "code",
      "source": [
        "df_language.shape"
      ],
      "execution_count": 0,
      "outputs": [
        {
          "output_type": "execute_result",
          "data": {
            "text/plain": [
              "(506189, 13)"
            ]
          },
          "metadata": {
            "tags": []
          },
          "execution_count": 20
        }
      ]
    },
    {
      "metadata": {
        "id": "P9e4bA5Wa6Sv",
        "colab_type": "code",
        "colab": {
          "base_uri": "https://localhost:8080/",
          "height": 513
        },
        "outputId": "350e1386-7ed2-4358-cc51-cba0d2d0b019"
      },
      "cell_type": "code",
      "source": [
        "df_language.head()"
      ],
      "execution_count": 0,
      "outputs": [
        {
          "output_type": "execute_result",
          "data": {
            "text/html": [
              "<div>\n",
              "<style scoped>\n",
              "    .dataframe tbody tr th:only-of-type {\n",
              "        vertical-align: middle;\n",
              "    }\n",
              "\n",
              "    .dataframe tbody tr th {\n",
              "        vertical-align: top;\n",
              "    }\n",
              "\n",
              "    .dataframe thead th {\n",
              "        text-align: right;\n",
              "    }\n",
              "</style>\n",
              "<table border=\"1\" class=\"dataframe\">\n",
              "  <thead>\n",
              "    <tr style=\"text-align: right;\">\n",
              "      <th></th>\n",
              "      <th>Unnamed: 0</th>\n",
              "      <th>WakeTime</th>\n",
              "      <th>JobSatisfaction</th>\n",
              "      <th>LanguageWorkedWith</th>\n",
              "      <th>Student</th>\n",
              "      <th>HopeFiveYears</th>\n",
              "      <th>EthicsChoice</th>\n",
              "      <th>ConvertedSalary</th>\n",
              "      <th>Gender</th>\n",
              "      <th>YearsCodingProf</th>\n",
              "      <th>Age</th>\n",
              "      <th>FormalEducation</th>\n",
              "      <th>Language</th>\n",
              "    </tr>\n",
              "  </thead>\n",
              "  <tbody>\n",
              "    <tr>\n",
              "      <th>0</th>\n",
              "      <td>0</td>\n",
              "      <td>Between 5:00 - 6:00 AM</td>\n",
              "      <td>Extremely satisfied</td>\n",
              "      <td>JavaScript;Python;HTML;CSS</td>\n",
              "      <td>No</td>\n",
              "      <td>Working as a founder or co-founder of my own c...</td>\n",
              "      <td>No</td>\n",
              "      <td>NaN</td>\n",
              "      <td>Male</td>\n",
              "      <td>3-5 years</td>\n",
              "      <td>25 - 34 years old</td>\n",
              "      <td>Bachelor’s degree (BA, BS, B.Eng., etc.)</td>\n",
              "      <td>JavaScript</td>\n",
              "    </tr>\n",
              "    <tr>\n",
              "      <th>0</th>\n",
              "      <td>0</td>\n",
              "      <td>Between 5:00 - 6:00 AM</td>\n",
              "      <td>Extremely satisfied</td>\n",
              "      <td>JavaScript;Python;HTML;CSS</td>\n",
              "      <td>No</td>\n",
              "      <td>Working as a founder or co-founder of my own c...</td>\n",
              "      <td>No</td>\n",
              "      <td>NaN</td>\n",
              "      <td>Male</td>\n",
              "      <td>3-5 years</td>\n",
              "      <td>25 - 34 years old</td>\n",
              "      <td>Bachelor’s degree (BA, BS, B.Eng., etc.)</td>\n",
              "      <td>Python</td>\n",
              "    </tr>\n",
              "    <tr>\n",
              "      <th>0</th>\n",
              "      <td>0</td>\n",
              "      <td>Between 5:00 - 6:00 AM</td>\n",
              "      <td>Extremely satisfied</td>\n",
              "      <td>JavaScript;Python;HTML;CSS</td>\n",
              "      <td>No</td>\n",
              "      <td>Working as a founder or co-founder of my own c...</td>\n",
              "      <td>No</td>\n",
              "      <td>NaN</td>\n",
              "      <td>Male</td>\n",
              "      <td>3-5 years</td>\n",
              "      <td>25 - 34 years old</td>\n",
              "      <td>Bachelor’s degree (BA, BS, B.Eng., etc.)</td>\n",
              "      <td>HTML</td>\n",
              "    </tr>\n",
              "    <tr>\n",
              "      <th>0</th>\n",
              "      <td>0</td>\n",
              "      <td>Between 5:00 - 6:00 AM</td>\n",
              "      <td>Extremely satisfied</td>\n",
              "      <td>JavaScript;Python;HTML;CSS</td>\n",
              "      <td>No</td>\n",
              "      <td>Working as a founder or co-founder of my own c...</td>\n",
              "      <td>No</td>\n",
              "      <td>NaN</td>\n",
              "      <td>Male</td>\n",
              "      <td>3-5 years</td>\n",
              "      <td>25 - 34 years old</td>\n",
              "      <td>Bachelor’s degree (BA, BS, B.Eng., etc.)</td>\n",
              "      <td>CSS</td>\n",
              "    </tr>\n",
              "    <tr>\n",
              "      <th>1</th>\n",
              "      <td>1</td>\n",
              "      <td>Between 6:01 - 7:00 AM</td>\n",
              "      <td>Moderately dissatisfied</td>\n",
              "      <td>JavaScript;Python;Bash/Shell</td>\n",
              "      <td>No</td>\n",
              "      <td>Working in a different or more specialized tec...</td>\n",
              "      <td>Depends on what it is</td>\n",
              "      <td>70841.0</td>\n",
              "      <td>Male</td>\n",
              "      <td>18-20 years</td>\n",
              "      <td>35 - 44 years old</td>\n",
              "      <td>Bachelor’s degree (BA, BS, B.Eng., etc.)</td>\n",
              "      <td>JavaScript</td>\n",
              "    </tr>\n",
              "  </tbody>\n",
              "</table>\n",
              "</div>"
            ],
            "text/plain": [
              "   Unnamed: 0                WakeTime          JobSatisfaction  \\\n",
              "0           0  Between 5:00 - 6:00 AM      Extremely satisfied   \n",
              "0           0  Between 5:00 - 6:00 AM      Extremely satisfied   \n",
              "0           0  Between 5:00 - 6:00 AM      Extremely satisfied   \n",
              "0           0  Between 5:00 - 6:00 AM      Extremely satisfied   \n",
              "1           1  Between 6:01 - 7:00 AM  Moderately dissatisfied   \n",
              "\n",
              "             LanguageWorkedWith Student  \\\n",
              "0    JavaScript;Python;HTML;CSS      No   \n",
              "0    JavaScript;Python;HTML;CSS      No   \n",
              "0    JavaScript;Python;HTML;CSS      No   \n",
              "0    JavaScript;Python;HTML;CSS      No   \n",
              "1  JavaScript;Python;Bash/Shell      No   \n",
              "\n",
              "                                       HopeFiveYears           EthicsChoice  \\\n",
              "0  Working as a founder or co-founder of my own c...                     No   \n",
              "0  Working as a founder or co-founder of my own c...                     No   \n",
              "0  Working as a founder or co-founder of my own c...                     No   \n",
              "0  Working as a founder or co-founder of my own c...                     No   \n",
              "1  Working in a different or more specialized tec...  Depends on what it is   \n",
              "\n",
              "   ConvertedSalary Gender YearsCodingProf                Age  \\\n",
              "0              NaN   Male       3-5 years  25 - 34 years old   \n",
              "0              NaN   Male       3-5 years  25 - 34 years old   \n",
              "0              NaN   Male       3-5 years  25 - 34 years old   \n",
              "0              NaN   Male       3-5 years  25 - 34 years old   \n",
              "1          70841.0   Male     18-20 years  35 - 44 years old   \n",
              "\n",
              "                            FormalEducation    Language  \n",
              "0  Bachelor’s degree (BA, BS, B.Eng., etc.)  JavaScript  \n",
              "0  Bachelor’s degree (BA, BS, B.Eng., etc.)      Python  \n",
              "0  Bachelor’s degree (BA, BS, B.Eng., etc.)        HTML  \n",
              "0  Bachelor’s degree (BA, BS, B.Eng., etc.)         CSS  \n",
              "1  Bachelor’s degree (BA, BS, B.Eng., etc.)  JavaScript  "
            ]
          },
          "metadata": {
            "tags": []
          },
          "execution_count": 21
        }
      ]
    },
    {
      "metadata": {
        "id": "_Zm9qfFIa7wf",
        "colab_type": "code",
        "colab": {
          "base_uri": "https://localhost:8080/",
          "height": 720
        },
        "outputId": "b811bebe-27a6-444c-8d22-ab6a1a95c751"
      },
      "cell_type": "code",
      "source": [
        "# we did all this code just to get to the following graph :)\n",
        "# we are using the dataframe df_language that we created above\n",
        "\n",
        "plt.figure(figsize=(14,12))\n",
        "\n",
        "\n",
        "\n",
        "df_language.Language.value_counts().sort_values(ascending=True).plot.barh(width=0.9,\n",
        "                                                                          color=sns.color_palette('inferno_r',15))\n",
        "plt.show()"
      ],
      "execution_count": 0,
      "outputs": [
        {
          "output_type": "display_data",
          "data": {
            "image/png": "[encoded data removed]",
            "text/plain": [
              "<matplotlib.figure.Figure at 0x7f929ce31668>"
            ]
          },
          "metadata": {
            "tags": []
          }
        }
      ]
    },
    {
      "metadata": {
        "id": "SWuMdiCh5sRY",
        "colab_type": "text"
      },
      "cell_type": "markdown",
      "source": [
        "**Web development **on the front (js, html, css)\n",
        "\n",
        "**SQL** goes next. Everyone at some point needs to know how to retrive data from the datawarehouse right?\n",
        "\n",
        "**Java** in fith position.\n",
        "\n",
        "And according to stackoverflow survey, this is the first time **python** comes first than C#"
      ]
    },
    {
      "metadata": {
        "id": "d4wvtulibW9O",
        "colab_type": "text"
      },
      "cell_type": "markdown",
      "source": [
        "### 4. What are the plans for the next five years of current developers?"
      ]
    },
    {
      "metadata": {
        "id": "0IFjMil06bsX",
        "colab_type": "text"
      },
      "cell_type": "markdown",
      "source": [
        "Here we will plot two columns (or variables): Student and HopeFiveYears"
      ]
    },
    {
      "metadata": {
        "id": "SIIi5jye6qU1",
        "colab_type": "code",
        "colab": {
          "base_uri": "https://localhost:8080/",
          "height": 105
        },
        "outputId": "6ad51930-c8b9-46a0-8316-8fd8682fe998"
      },
      "cell_type": "code",
      "source": [
        "data.Student.value_counts()"
      ],
      "execution_count": 0,
      "outputs": [
        {
          "output_type": "execute_result",
          "data": {
            "text/plain": [
              "No                70399\n",
              "Yes, full-time    18394\n",
              "Yes, part-time     6108\n",
              "Name: Student, dtype: int64"
            ]
          },
          "metadata": {
            "tags": []
          },
          "execution_count": 23
        }
      ]
    },
    {
      "metadata": {
        "id": "fEyylhtlbXbe",
        "colab_type": "code",
        "colab": {
          "base_uri": "https://localhost:8080/",
          "height": 765
        },
        "outputId": "b29388fe-be1e-421c-d53b-0f0aded6741f"
      },
      "cell_type": "code",
      "source": [
        "plt.figure(figsize=(15,12))\n",
        "\n",
        "\n",
        "temp = data.dropna(subset=['Student', 'HopeFiveYears']) # we need to drop all columns that are Nan. the subset means we are choosing or specified these two columns, and it will drop na for these two\n",
        "\n",
        "sns.heatmap(pd.crosstab(temp.HopeFiveYears, temp.Student)) # heatmap is a seaborn plot. crosstab computes a frequency table of those two columns\n",
        "\n",
        "# Adjust what you this is necessary ( Title, y and x ticks, labels, font size)\n",
        "plt.title('Plan for five years of our developers, if he/she is student or not student')\n",
        "plt.yticks(fontsize=18)\n",
        "plt.xticks(fontsize=18)\n",
        "plt.ylabel('Hope for five years',fontsize=18)\n",
        "plt.xlabel('Student',fontsize=18)\n",
        "plt.show()"
      ],
      "execution_count": 0,
      "outputs": [
        {
          "output_type": "display_data",
          "data": {
            "image/png": "[encoded data removed]",
            "text/plain": [
              "<matplotlib.figure.Figure at 0x7f929cd77400>"
            ]
          },
          "metadata": {
            "tags": []
          }
        }
      ]
    },
    {
      "metadata": {
        "id": "V6cZ0ybIbjHe",
        "colab_type": "text"
      },
      "cell_type": "markdown",
      "source": [
        "* The darker the color gets, the more people are represented\n",
        "\n",
        "\n",
        "* Because the Column Student has more people for \"No\" than the other categories, this heatmap will have darker colors for the \"No\" Category.\n",
        "\n",
        "\n",
        "* no one wants retirement or a career unrelated to software dev within the next five years :)\n",
        "\n",
        "\n",
        "* Majority want to open a company and work there as the founder. \n",
        "\n",
        "\n",
        "* Others want to work in a more specialized technical role."
      ]
    },
    {
      "metadata": {
        "id": "A-ZsES6bbnPO",
        "colab_type": "text"
      },
      "cell_type": "markdown",
      "source": [
        "### 5. Developers' Ethics"
      ]
    },
    {
      "metadata": {
        "id": "9DiUwOxmbnhe",
        "colab_type": "code",
        "colab": {
          "base_uri": "https://localhost:8080/",
          "height": 739
        },
        "outputId": "3a2b3965-d54c-4c0f-a9d3-fa81075df9ae"
      },
      "cell_type": "code",
      "source": [
        "plt.figure(figsize=(15,12))\n",
        "\n",
        "data.EthicsChoice.value_counts().sort_values(ascending=True).plot.barh(width=0.9,\n",
        "                                                                       color=sns.color_palette('inferno_r',15))\n",
        "\n",
        "plt.title('Response for writing code for a project that is unethical', fontsize=18)\n",
        "plt.show()\n"
      ],
      "execution_count": 0,
      "outputs": [
        {
          "output_type": "display_data",
          "data": {
            "image/png": "[encoded data removed]",
            "text/plain": [
              "<matplotlib.figure.Figure at 0x7f928be10f60>"
            ]
          },
          "metadata": {
            "tags": []
          }
        }
      ]
    },
    {
      "metadata": {
        "id": "3y4K0NMnbsk-",
        "colab_type": "text"
      },
      "cell_type": "markdown",
      "source": [
        "Only tiny fraction of developers say that they would write unethical code.\n"
      ]
    },
    {
      "metadata": {
        "id": "iL8SqmzXbwFp",
        "colab_type": "text"
      },
      "cell_type": "markdown",
      "source": [
        "### 6. What about salary?"
      ]
    },
    {
      "metadata": {
        "id": "Nba3vIH97OsG",
        "colab_type": "text"
      },
      "cell_type": "markdown",
      "source": [
        "Here is a problem I will not cover today.\n",
        "\n",
        "This dataset has over 50 countries represented. And each country has its currency.\n",
        "\n",
        "Therefore salaries are country-specific, so to make this right I would have to apply the exchange rate for all countries and convert all salaries, for example, to US dollars.\n",
        "\n",
        "This will not be cover today, but you can ask me how to do it or go to my website. I have an example on how to do this."
      ]
    },
    {
      "metadata": {
        "id": "rQaAFphIbwbf",
        "colab_type": "code",
        "colab": {
          "base_uri": "https://localhost:8080/",
          "height": 190
        },
        "outputId": "64dd1d05-6580-460f-a1bf-c0accd34e822"
      },
      "cell_type": "code",
      "source": [
        "pd.set_option('display.float_format', lambda x: '%.3f' % x)\n",
        "data.ConvertedSalary.describe()"
      ],
      "execution_count": 0,
      "outputs": [
        {
          "output_type": "execute_result",
          "data": {
            "text/plain": [
              "count     47702.000\n",
              "mean      95780.862\n",
              "std      202348.216\n",
              "min           0.000\n",
              "25%       23844.000\n",
              "50%       55075.000\n",
              "75%       93000.000\n",
              "max     2000000.000\n",
              "Name: ConvertedSalary, dtype: float64"
            ]
          },
          "metadata": {
            "tags": []
          },
          "execution_count": 26
        }
      ]
    },
    {
      "metadata": {
        "id": "_7M_0QN8b11P",
        "colab_type": "text"
      },
      "cell_type": "markdown",
      "source": [
        "* Min salary: 0 . Does not seem right\n",
        "\n",
        "* Max salary: 2 Million  ... where are you working at?"
      ]
    },
    {
      "metadata": {
        "id": "Wx2XgA8Vb-el",
        "colab_type": "text"
      },
      "cell_type": "markdown",
      "source": [
        "**Remove Outliers**"
      ]
    },
    {
      "metadata": {
        "id": "dlhMfafhb-6d",
        "colab_type": "code",
        "colab": {}
      },
      "cell_type": "code",
      "source": [
        "# Create a temporary table temp_1\n",
        "\n",
        "temp_1 = data[(data['ConvertedSalary']>5000) & (data['ConvertedSalary']<1000000)]"
      ],
      "execution_count": 0,
      "outputs": []
    },
    {
      "metadata": {
        "id": "KeEMy1EJcDi8",
        "colab_type": "code",
        "colab": {
          "base_uri": "https://localhost:8080/",
          "height": 536
        },
        "outputId": "5f7f7930-1c83-486f-f398-dc03553b68c3"
      },
      "cell_type": "code",
      "source": [
        "plt.figure(figsize=(10,8))\n",
        "sns.distplot(temp_1['ConvertedSalary'])\n",
        "plt.title('Salary distribtion',size=15)\n",
        "plt.show()"
      ],
      "execution_count": 0,
      "outputs": [
        {
          "output_type": "display_data",
          "data": {
            "image/png": "[encoded data removed]",
            "text/plain": [
              "<matplotlib.figure.Figure at 0x7f928c055e80>"
            ]
          },
          "metadata": {
            "tags": []
          }
        }
      ]
    },
    {
      "metadata": {
        "id": "gmQahiY9cE9s",
        "colab_type": "code",
        "colab": {
          "base_uri": "https://localhost:8080/",
          "height": 71
        },
        "outputId": "eaffb3cc-389c-41db-8520-c6a4eaf089fe"
      },
      "cell_type": "code",
      "source": [
        "# This is how you can add text along with some metrics:\n",
        "\n",
        "print(' The median salary is: ',temp_1.ConvertedSalary.median())\n",
        "print(' The average salary is: ',temp_1.ConvertedSalary.mean())"
      ],
      "execution_count": 0,
      "outputs": [
        {
          "output_type": "stream",
          "text": [
            " The median salary is:  58752.0\n",
            " The average salary is:  79812.63376385873\n"
          ],
          "name": "stdout"
        }
      ]
    },
    {
      "metadata": {
        "id": "0u_jepWGcNtX",
        "colab_type": "text"
      },
      "cell_type": "markdown",
      "source": [
        "* the average salary is **79.812**  and is greater than the median of **58.752.** \n",
        "\n",
        "\n",
        "* This is an indication that the response variable (salary) is **positively skewed**. \n",
        "\n",
        "\n",
        "* it means there's much **more outliers towards the right** (unusually high salaries) than towards the left."
      ]
    },
    {
      "metadata": {
        "id": "dUwE18txcQsN",
        "colab_type": "text"
      },
      "cell_type": "markdown",
      "source": [
        "### 7. Men and Women Salaries"
      ]
    },
    {
      "metadata": {
        "id": "9PG7nrXh-Iwz",
        "colab_type": "text"
      },
      "cell_type": "markdown",
      "source": [
        "Yes this is still an issue."
      ]
    },
    {
      "metadata": {
        "id": "ff0AJLU-cOIN",
        "colab_type": "code",
        "colab": {}
      },
      "cell_type": "code",
      "source": [
        "#Create another temporary table only to consider Male and Female\n",
        "temp_2 = data[data.Gender.isin(['Male','Female'])]"
      ],
      "execution_count": 0,
      "outputs": []
    },
    {
      "metadata": {
        "id": "qLPcQBA1cTD9",
        "colab_type": "code",
        "colab": {}
      },
      "cell_type": "code",
      "source": [
        "male = temp_2[temp_2['Gender'] == 'Male']\n",
        "female = temp_2[temp_2['Gender'] == 'Female']"
      ],
      "execution_count": 0,
      "outputs": []
    },
    {
      "metadata": {
        "id": "7bm57P7ocUcN",
        "colab_type": "code",
        "colab": {
          "base_uri": "https://localhost:8080/",
          "height": 190
        },
        "outputId": "a3b2b902-9e4a-4e0a-9e95-64b502a45fe4"
      },
      "cell_type": "code",
      "source": [
        "male.ConvertedSalary.describe()"
      ],
      "execution_count": 0,
      "outputs": [
        {
          "output_type": "execute_result",
          "data": {
            "text/plain": [
              "count     41232.000\n",
              "mean      96477.074\n",
              "std      201242.575\n",
              "min           0.000\n",
              "25%       24972.000\n",
              "50%       56100.000\n",
              "75%       94842.000\n",
              "max     2000000.000\n",
              "Name: ConvertedSalary, dtype: float64"
            ]
          },
          "metadata": {
            "tags": []
          },
          "execution_count": 32
        }
      ]
    },
    {
      "metadata": {
        "id": "4OZHDvL_cVld",
        "colab_type": "code",
        "colab": {
          "base_uri": "https://localhost:8080/",
          "height": 190
        },
        "outputId": "2117bc5f-dfd4-4ffd-dd91-1d30c5ec6926"
      },
      "cell_type": "code",
      "source": [
        "female.ConvertedSalary.describe()"
      ],
      "execution_count": 0,
      "outputs": [
        {
          "output_type": "execute_result",
          "data": {
            "text/plain": [
              "count      2649.000\n",
              "mean      88251.294\n",
              "std      188577.892\n",
              "min           0.000\n",
              "25%       23808.000\n",
              "50%       54336.000\n",
              "75%       85000.000\n",
              "max     2000000.000\n",
              "Name: ConvertedSalary, dtype: float64"
            ]
          },
          "metadata": {
            "tags": []
          },
          "execution_count": 33
        }
      ]
    },
    {
      "metadata": {
        "id": "OiT51Y9DcY0N",
        "colab_type": "text"
      },
      "cell_type": "markdown",
      "source": [
        "### 8. Years of Coding Professionally"
      ]
    },
    {
      "metadata": {
        "id": "gTqvLEGx-d9Q",
        "colab_type": "code",
        "colab": {
          "base_uri": "https://localhost:8080/",
          "height": 241
        },
        "outputId": "651ead5f-a36f-4982-9510-28a4d6693657"
      },
      "cell_type": "code",
      "source": [
        "data.YearsCodingProf.value_counts()"
      ],
      "execution_count": 0,
      "outputs": [
        {
          "output_type": "execute_result",
          "data": {
            "text/plain": [
              "0-2 years           23421\n",
              "3-5 years           21362\n",
              "6-8 years           11385\n",
              "9-11 years           7573\n",
              "12-14 years          4287\n",
              "15-17 years          3012\n",
              "18-20 years          2830\n",
              "21-23 years          1368\n",
              "30 or more years     1302\n",
              "24-26 years           857\n",
              "27-29 years           506\n",
              "Name: YearsCodingProf, dtype: int64"
            ]
          },
          "metadata": {
            "tags": []
          },
          "execution_count": 34
        }
      ]
    },
    {
      "metadata": {
        "id": "rcZUtlq-cZP3",
        "colab_type": "code",
        "colab": {}
      },
      "cell_type": "code",
      "source": [
        "# Sometimes the cell is too small for you to write the code in just one line: \n",
        "# New lines with .\\\n",
        "\n",
        "data['YearsCodingProf'] = data['YearsCodingProf'].\\\n",
        "                                astype(str).str.replace(' years','').str.\\\n",
        "                                replace(' or more', '').str.split('-', expand=True).\\\n",
        "                                astype(float).mean(axis=1)"
      ],
      "execution_count": 0,
      "outputs": []
    },
    {
      "metadata": {
        "id": "PsiSkHiXcb1N",
        "colab_type": "code",
        "colab": {
          "base_uri": "https://localhost:8080/",
          "height": 1091
        },
        "outputId": "567b19fa-c17d-4a27-f5de-2dd24ea0f665"
      },
      "cell_type": "code",
      "source": [
        "data.YearsCodingProf"
      ],
      "execution_count": 0,
      "outputs": [
        {
          "output_type": "execute_result",
          "data": {
            "text/plain": [
              "0        4.000\n",
              "1       19.000\n",
              "2        7.000\n",
              "3       13.000\n",
              "4        1.000\n",
              "5        4.000\n",
              "6        1.000\n",
              "7        4.000\n",
              "8       22.000\n",
              "9          nan\n",
              "10       1.000\n",
              "11         nan\n",
              "12         nan\n",
              "13       4.000\n",
              "14       1.000\n",
              "15       4.000\n",
              "16         nan\n",
              "17       1.000\n",
              "18       4.000\n",
              "19         nan\n",
              "20      13.000\n",
              "21      25.000\n",
              "22       7.000\n",
              "23      19.000\n",
              "24       4.000\n",
              "25      10.000\n",
              "26      13.000\n",
              "27       1.000\n",
              "28       4.000\n",
              "29       7.000\n",
              "         ...  \n",
              "98825      nan\n",
              "98826      nan\n",
              "98827      nan\n",
              "98828      nan\n",
              "98829      nan\n",
              "98830      nan\n",
              "98831      nan\n",
              "98832      nan\n",
              "98833    1.000\n",
              "98834      nan\n",
              "98835      nan\n",
              "98836      nan\n",
              "98837      nan\n",
              "98838      nan\n",
              "98839      nan\n",
              "98840      nan\n",
              "98841      nan\n",
              "98842      nan\n",
              "98843      nan\n",
              "98844      nan\n",
              "98845      nan\n",
              "98846      nan\n",
              "98847      nan\n",
              "98848      nan\n",
              "98849      nan\n",
              "98850      nan\n",
              "98851    1.000\n",
              "98852      nan\n",
              "98853      nan\n",
              "98854      nan\n",
              "Name: YearsCodingProf, Length: 98855, dtype: float64"
            ]
          },
          "metadata": {
            "tags": []
          },
          "execution_count": 36
        }
      ]
    },
    {
      "metadata": {
        "id": "Rd0PYOGicdBd",
        "colab_type": "code",
        "colab": {
          "base_uri": "https://localhost:8080/",
          "height": 681
        },
        "outputId": "6ab6c938-5b92-4a9f-b472-945a858da6d0"
      },
      "cell_type": "code",
      "source": [
        "plt.figure(figsize=(12,10))\n",
        "\n",
        "plt.title('Years of Coding Professionally', fontsize=18)\n",
        "sns.countplot(y=\"YearsCodingProf\", data=data)\n",
        "plt.show()"
      ],
      "execution_count": 0,
      "outputs": [
        {
          "output_type": "stream",
          "text": [
            "/usr/local/lib/python3.6/dist-packages/seaborn/categorical.py:1428: FutureWarning: remove_na is deprecated and is a private function. Do not use.\n",
            "  stat_data = remove_na(group_data)\n"
          ],
          "name": "stderr"
        },
        {
          "output_type": "display_data",
          "data": {
            "image/png": "[encoded data removed]",
            "text/plain": [
              "<matplotlib.figure.Figure at 0x7f928e670780>"
            ]
          },
          "metadata": {
            "tags": []
          }
        }
      ]
    },
    {
      "metadata": {
        "id": "TUUGfzUucgw3",
        "colab_type": "text"
      },
      "cell_type": "markdown",
      "source": [
        "### 9. Age"
      ]
    },
    {
      "metadata": {
        "id": "rx_5BnPxcjkt",
        "colab_type": "text"
      },
      "cell_type": "markdown",
      "source": [
        "The column Age is in a shape that is difficult to make calculations.\n",
        "\n",
        "It is a String Type so we need to convert to numeric.\n",
        "\n",
        "I will remove the text \"years old\" and \"Under\".\n",
        "\n",
        "I will split when it finds \"-\" and calculate the\n",
        "mean between two values. \n",
        "\n",
        "Here both 18 and 65 years old are single numbers. \n",
        "\n",
        "You should be thinking that it would calculate the mean between that value and 0, but here when it splits, it does not find a zero, but \"nothing\" to split. Therefore returns that value."
      ]
    },
    {
      "metadata": {
        "id": "VL3SVoeHclA9",
        "colab_type": "code",
        "colab": {
          "base_uri": "https://localhost:8080/",
          "height": 173
        },
        "outputId": "9ad95d25-9d40-46ab-c305-62c76b1a6a02"
      },
      "cell_type": "code",
      "source": [
        "data.Age.value_counts()"
      ],
      "execution_count": 0,
      "outputs": [
        {
          "output_type": "execute_result",
          "data": {
            "text/plain": [
              "25 - 34 years old     31759\n",
              "18 - 24 years old     15249\n",
              "35 - 44 years old     11477\n",
              "45 - 54 years old      3313\n",
              "Under 18 years old     1638\n",
              "55 - 64 years old       959\n",
              "65 years or older       179\n",
              "Name: Age, dtype: int64"
            ]
          },
          "metadata": {
            "tags": []
          },
          "execution_count": 38
        }
      ]
    },
    {
      "metadata": {
        "id": "UUHUA6dacmSs",
        "colab_type": "code",
        "colab": {}
      },
      "cell_type": "code",
      "source": [
        "# This is the kind of things I dont know by heart. But I am ok with only understanding the logic :)\n",
        "\n",
        "data['Age'] = data['Age'].\\\n",
        "                    astype(str).str.replace(' years old','').str.\\\n",
        "                    replace('Under ', '').str.replace(' years or older', '').str.\\\n",
        "                    split('-', expand=True).astype(float).mean(axis=1)"
      ],
      "execution_count": 0,
      "outputs": []
    },
    {
      "metadata": {
        "id": "83QllR3bcoFM",
        "colab_type": "code",
        "colab": {
          "base_uri": "https://localhost:8080/",
          "height": 173
        },
        "outputId": "20092c3d-51d5-4091-d646-8bf0f842cdc5"
      },
      "cell_type": "code",
      "source": [
        "data.Age.value_counts()"
      ],
      "execution_count": 0,
      "outputs": [
        {
          "output_type": "execute_result",
          "data": {
            "text/plain": [
              "29.500    31759\n",
              "21.000    15249\n",
              "39.500    11477\n",
              "49.500     3313\n",
              "18.000     1638\n",
              "59.500      959\n",
              "65.000      179\n",
              "Name: Age, dtype: int64"
            ]
          },
          "metadata": {
            "tags": []
          },
          "execution_count": 40
        }
      ]
    },
    {
      "metadata": {
        "id": "JX-lBdlFcpgb",
        "colab_type": "code",
        "colab": {
          "base_uri": "https://localhost:8080/",
          "height": 681
        },
        "outputId": "3222c4f6-073e-4414-a36c-39e8d86a9838"
      },
      "cell_type": "code",
      "source": [
        "plt.figure(figsize=(12,10))\n",
        "\n",
        "plt.title('Age', fontsize=18)\n",
        "sns.countplot(y=\"Age\", data=data)\n",
        "plt.show()"
      ],
      "execution_count": 0,
      "outputs": [
        {
          "output_type": "stream",
          "text": [
            "/usr/local/lib/python3.6/dist-packages/seaborn/categorical.py:1428: FutureWarning: remove_na is deprecated and is a private function. Do not use.\n",
            "  stat_data = remove_na(group_data)\n"
          ],
          "name": "stderr"
        },
        {
          "output_type": "display_data",
          "data": {
            "image/png": "[encoded data removed]",
            "text/plain": [
              "<matplotlib.figure.Figure at 0x7f928e6705c0>"
            ]
          },
          "metadata": {
            "tags": []
          }
        }
      ]
    },
    {
      "metadata": {
        "id": "EEwXq_79cs70",
        "colab_type": "text"
      },
      "cell_type": "markdown",
      "source": [
        "## 10.Formal Education"
      ]
    },
    {
      "metadata": {
        "id": "sLc0Zwn8ctUb",
        "colab_type": "code",
        "colab": {
          "base_uri": "https://localhost:8080/",
          "height": 119
        },
        "outputId": "3ed79d2c-d731-45cf-8ad5-5833aed01725"
      },
      "cell_type": "code",
      "source": [
        "data.FormalEducation.head()"
      ],
      "execution_count": 0,
      "outputs": [
        {
          "output_type": "execute_result",
          "data": {
            "text/plain": [
              "0             Bachelor’s degree (BA, BS, B.Eng., etc.)\n",
              "1             Bachelor’s degree (BA, BS, B.Eng., etc.)\n",
              "2                                     Associate degree\n",
              "3             Bachelor’s degree (BA, BS, B.Eng., etc.)\n",
              "4    Some college/university study without earning ...\n",
              "Name: FormalEducation, dtype: object"
            ]
          },
          "metadata": {
            "tags": []
          },
          "execution_count": 42
        }
      ]
    },
    {
      "metadata": {
        "id": "yRt8xg0qcvRs",
        "colab_type": "code",
        "colab": {}
      },
      "cell_type": "code",
      "source": [
        "data['FormalEducation'] = data['FormalEducation'].str.replace(r\"\\(.*\\)\",\"\")"
      ],
      "execution_count": 0,
      "outputs": []
    },
    {
      "metadata": {
        "id": "8lnkYyX_cxq7",
        "colab_type": "code",
        "colab": {
          "base_uri": "https://localhost:8080/",
          "height": 34
        },
        "outputId": "5d76c6ea-ad78-4045-89ac-a6b6ae691f9e"
      },
      "cell_type": "code",
      "source": [
        "print(data.FormalEducation[1])"
      ],
      "execution_count": 0,
      "outputs": [
        {
          "output_type": "stream",
          "text": [
            "Bachelor’s degree \n"
          ],
          "name": "stdout"
        }
      ]
    },
    {
      "metadata": {
        "id": "3xwSy1u5czVN",
        "colab_type": "code",
        "colab": {
          "base_uri": "https://localhost:8080/",
          "height": 187
        },
        "outputId": "74ace0d9-987f-4175-a29b-5f34df31676c"
      },
      "cell_type": "code",
      "source": [
        "data.FormalEducation.value_counts()"
      ],
      "execution_count": 0,
      "outputs": [
        {
          "output_type": "execute_result",
          "data": {
            "text/plain": [
              "Bachelor’s degree                                         43659\n",
              "Master’s degree                                           21396\n",
              "Some college/university study without earning a degree    11710\n",
              "Secondary school                                           8951\n",
              "Associate degree                                           2970\n",
              "Other doctoral degree                                      2214\n",
              "Primary/elementary school                                  1656\n",
              "Professional degree                                        1447\n",
              "I never completed any formal education                      700\n",
              "Name: FormalEducation, dtype: int64"
            ]
          },
          "metadata": {
            "tags": []
          },
          "execution_count": 45
        }
      ]
    },
    {
      "metadata": {
        "id": "Zqvhs1tZc1NE",
        "colab_type": "text"
      },
      "cell_type": "markdown",
      "source": [
        "**More text modification**"
      ]
    },
    {
      "metadata": {
        "id": "dcDXjHNQc2hr",
        "colab_type": "code",
        "colab": {}
      },
      "cell_type": "code",
      "source": [
        "# Replace Some college/university study without earning a degree  with Some college W.E.D \n",
        "data['FormalEducation'] = data['FormalEducation'].str.\\\n",
        "                              replace('Some college/university study without earning a degree','Some college W.E.D')"
      ],
      "execution_count": 0,
      "outputs": []
    },
    {
      "metadata": {
        "id": "0B7uK8Tdc5B_",
        "colab_type": "code",
        "colab": {
          "base_uri": "https://localhost:8080/",
          "height": 187
        },
        "outputId": "f7f00c73-f0d9-440f-81f2-ae58f59f2c1b"
      },
      "cell_type": "code",
      "source": [
        "data.FormalEducation.value_counts()"
      ],
      "execution_count": 0,
      "outputs": [
        {
          "output_type": "execute_result",
          "data": {
            "text/plain": [
              "Bachelor’s degree                         43659\n",
              "Master’s degree                           21396\n",
              "Some college W.E.D                        11710\n",
              "Secondary school                           8951\n",
              "Associate degree                           2970\n",
              "Other doctoral degree                      2214\n",
              "Primary/elementary school                  1656\n",
              "Professional degree                        1447\n",
              "I never completed any formal education      700\n",
              "Name: FormalEducation, dtype: int64"
            ]
          },
          "metadata": {
            "tags": []
          },
          "execution_count": 47
        }
      ]
    },
    {
      "metadata": {
        "id": "QYcXV1MAc7kM",
        "colab_type": "code",
        "colab": {}
      },
      "cell_type": "code",
      "source": [
        "data['FormalEducation'] = data['FormalEducation'].\\\n",
        "                                str.replace('I never completed any formal education','Never completed')"
      ],
      "execution_count": 0,
      "outputs": []
    },
    {
      "metadata": {
        "id": "KPosRPUMc-B8",
        "colab_type": "code",
        "colab": {
          "base_uri": "https://localhost:8080/",
          "height": 187
        },
        "outputId": "18fd6fd7-b3b7-4b07-b505-850b6338093b"
      },
      "cell_type": "code",
      "source": [
        "data.FormalEducation.value_counts()"
      ],
      "execution_count": 0,
      "outputs": [
        {
          "output_type": "execute_result",
          "data": {
            "text/plain": [
              "Bachelor’s degree            43659\n",
              "Master’s degree              21396\n",
              "Some college W.E.D           11710\n",
              "Secondary school              8951\n",
              "Associate degree              2970\n",
              "Other doctoral degree         2214\n",
              "Primary/elementary school     1656\n",
              "Professional degree           1447\n",
              "Never completed                700\n",
              "Name: FormalEducation, dtype: int64"
            ]
          },
          "metadata": {
            "tags": []
          },
          "execution_count": 49
        }
      ]
    },
    {
      "metadata": {
        "id": "kCFj8Y8ac_b8",
        "colab_type": "code",
        "colab": {
          "base_uri": "https://localhost:8080/",
          "height": 661
        },
        "outputId": "525a6a10-7a4a-47c2-f128-62f50f79504c"
      },
      "cell_type": "code",
      "source": [
        "plt.figure(figsize=(12,10))\n",
        "\n",
        "plt.title('Formal Education', fontsize=18)\n",
        "sns.countplot(y=\"FormalEducation\", data=data)\n",
        "plt.show()"
      ],
      "execution_count": 0,
      "outputs": [
        {
          "output_type": "stream",
          "text": [
            "/usr/local/lib/python3.6/dist-packages/seaborn/categorical.py:1428: FutureWarning: remove_na is deprecated and is a private function. Do not use.\n",
            "  stat_data = remove_na(group_data)\n"
          ],
          "name": "stderr"
        },
        {
          "output_type": "display_data",
          "data": {
            "image/png": "[encoded data removed]",
            "text/plain": [
              "<matplotlib.figure.Figure at 0x7f9294ab0e80>"
            ]
          },
          "metadata": {
            "tags": []
          }
        }
      ]
    },
    {
      "metadata": {
        "id": "nBlWeQUipyNl",
        "colab_type": "text"
      },
      "cell_type": "markdown",
      "source": [
        "## Other interesting facts:"
      ]
    },
    {
      "metadata": {
        "id": "GW1GRJhTp2Sg",
        "colab_type": "text"
      },
      "cell_type": "markdown",
      "source": [
        "**DevOps** and **machine learning** are important trends in the software industry today. Languages and frameworks associated with these kinds of works are on the rise, and these developers are demanding the **highest salaries.**\n",
        "\n",
        "\n",
        "**Python** has risen in the ranks of programming languages on our survey, **surpassing C# in popularity** this year, much like it surpassed PHP last year.\n",
        "\n",
        "**Women** say their highest priorities are **company culture** and **opportunities **for professional development\n",
        "\n",
        "**Men** say their highest priorities are **compensation** and working with **specific technologies**\n",
        "\n",
        "\n"
      ]
    },
    {
      "metadata": {
        "id": "RPx1Kr1Dqe8V",
        "colab_type": "text"
      },
      "cell_type": "markdown",
      "source": [
        "See the full report here:\n",
        "\n",
        "https://insights.stackoverflow.com/survey/2018/"
      ]
    },
    {
      "metadata": {
        "id": "6s6_TMiit0Yd",
        "colab_type": "text"
      },
      "cell_type": "markdown",
      "source": [
        "## What do I do every single day:"
      ]
    },
    {
      "metadata": {
        "id": "sodyjiDquAXJ",
        "colab_type": "text"
      },
      "cell_type": "markdown",
      "source": [
        "# Read Medium News on www.medium.com"
      ]
    },
    {
      "metadata": {
        "id": "Q9ehKSzyur3A",
        "colab_type": "text"
      },
      "cell_type": "markdown",
      "source": [
        "Today I got an email with the following news:\n",
        "\n",
        "\n",
        "\n",
        "\n",
        "1.   Embedding Machine Learning Models to Web Apps (Part-1)\n",
        "\n",
        "2.   Machine Learning Top 10 Articles for the Past Month (v.June 2018)\n",
        "\n",
        "3. Can a simple CNN work as well as Facial Recognition for differentiating Redheads?\n",
        "\n",
        "4. Google Object Detection API to detect Brand Logos Part 1\n",
        "\n",
        "5. Kaggle’s Digit Recogniser using TensorFlow -LeNet Architecture\n",
        "\n",
        "\n",
        "\n",
        "These are all articles that will explain to you how to do stuff. Most of them are practical and the code is embeded in the article itself so you can practice.\n",
        "\n",
        "These articles will also tell you in the header how much time it will take you to read (between 5m to 20m).\n"
      ]
    },
    {
      "metadata": {
        "id": "RNlnTTvZ_DYM",
        "colab_type": "text"
      },
      "cell_type": "markdown",
      "source": [
        "# Please start your own blog:"
      ]
    },
    {
      "metadata": {
        "id": "nqMgth20_HMS",
        "colab_type": "text"
      },
      "cell_type": "markdown",
      "source": [
        "Why:\n",
        "\n",
        "\n",
        "It will force you to understand about the stuff you are writing.\n",
        "\n",
        "You will have the feeling of accomplishment once you finish the project\n",
        "\n",
        "I dont know all functions by heart: Still today, when I need to manipulate some data or do some calculations, I go back to my main source: my website\n",
        "\n",
        "Exercise as much as you can: take a dataset from Kaggle.com, and work your way from there. You will find problems along the way, but you will always find a solution. And that is a good feeling."
      ]
    },
    {
      "metadata": {
        "id": "QHebDTN0_2ZD",
        "colab_type": "code",
        "colab": {}
      },
      "cell_type": "code",
      "source": [
        ""
      ],
      "execution_count": 0,
      "outputs": []
    }
  ]
}